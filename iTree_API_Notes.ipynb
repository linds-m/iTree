{
 "cells": [
  {
   "cell_type": "code",
   "execution_count": 41,
   "metadata": {},
   "outputs": [],
   "source": [
    "import xml.etree.ElementTree as ET\n",
    "import requests"
   ]
  },
  {
   "cell_type": "code",
   "execution_count": 42,
   "metadata": {},
   "outputs": [],
   "source": [
    "url = 'https://dtbe-api.daveyinstitute.com/v2/getGrowoutTreeBenefit/?key=272752b916654994a7e781cd037fc4ed&ProjectYears=1&MortalityRate=0.00&Longitude=-117.2137&Latitude=33.2854&TreeAmount=1&Species=CUAN&DBHCentimeter=2.54&TreeHeightMeter=-1&TreeCrownHeightMeter=-1&TreeCrownWidthMeter=-1&Condition=Good&CLE=3&EnergyOnly=0&HouseVintage=post-1980&DirectionDegree=315&DistanceMeter=1.8288&Heated=1&AirConditioned=1'\n",
    "r = requests.get(url)\n",
    "tree_data = r.text\n",
    "root = ET.fromstring(tree_data)"
   ]
  },
  {
   "cell_type": "code",
   "execution_count": 43,
   "metadata": {},
   "outputs": [
    {
     "name": "stdout",
     "output_type": "stream",
     "text": [
      "application/xml\n"
     ]
    }
   ],
   "source": [
    "if r.status_code == requests.codes.ok:\n",
    "    print(r.headers['content-type'])"
   ]
  },
  {
   "cell_type": "code",
   "execution_count": 54,
   "metadata": {},
   "outputs": [
    {
     "name": "stdout",
     "output_type": "stream",
     "text": [
      "<?xml version='1.0' encoding='utf8'?>\n",
      "<Result>\n",
      "\n",
      "\t<Error />\n",
      "\n",
      "\t<ApiVersion>2</ApiVersion>\n",
      "\t<DBVersion>12.0.77</DBVersion>\n",
      "\t<EngineVersion>0.15.1</EngineVersion>\n",
      "\t<InputInformation>\n",
      "\t\t<Location>\n",
      "    <Longitude>-117.2137</Longitude>\n",
      "    <Latitude>33.2854</Latitude>\n",
      "    <NorthHemisphere>1</NorthHemisphere>\n",
      "    <NationFullName>United States of America</NationFullName>\n",
      "    <StateAbbr>CA</StateAbbr>\n",
      "    <CountyName>San Diego</CountyName>\n",
      "    \n",
      "    <CityName>Fallbrook</CityName>\n",
      "    \n",
      "</Location>\n",
      "<Tree>\n",
      "    <Species>CUAN</Species>\n",
      "    <DBHCentimeter>2.54</DBHCentimeter>\n",
      "    <Condition>good</Condition>\n",
      "    <CLE>3</CLE>\n",
      "\n",
      "    \n",
      "    <HeightMeter />\n",
      "    \n",
      "    \n",
      "    <CrownHeightMeter />\n",
      "    \n",
      "    \n",
      "    <CrownWidthMeter />\n",
      "    \n",
      "\n",
      "    \n",
      "    <CalculatedHeightMeter>3.9586400510446014</CalculatedHeightMeter>\n",
      "    \n",
      "    \n",
      "    <CalculatedCrownHeightMeter>0.9570110399999999</CalculatedCrownHeightMeter>\n",
      "    \n",
      "    \n",
      "    <CalculatedCrownWidthMeter>2.514046725757369</CalculatedCrownWidthMeter>\n",
      "    \n",
      "</Tree>\n",
      "<TreeAmount>1.0</TreeAmount>\n",
      "<MortalityRate>0.0</MortalityRate>\n",
      "<ProjectYears>1</ProjectYears>\n",
      "<ProjectDirection>1</ProjectDirection>\n",
      "<EmissionRateOfCO2kgPerMwh>252.39639405195604</EmissionRateOfCO2kgPerMwh>\n",
      "<EmissionRateOfCO2kgPerMMBtu>52.004410579737005</EmissionRateOfCO2kgPerMMBtu>\n",
      "<Building>\n",
      "    <HouseVintage>post-1980</HouseVintage>\n",
      "    <Heated>1</Heated>\n",
      "    <AirConditioned>1</AirConditioned>\n",
      "</Building>\n",
      "<TreeBuildingInteraction>\n",
      "    <DistanceMeter>1.8288</DistanceMeter>\n",
      "    <DirectionDegree>315.0</DirectionDegree>\n",
      "</TreeBuildingInteraction>\n",
      "\n",
      "\t</InputInformation>\n",
      "\t<OutputInformation>\n",
      "\t\n",
      "\t\t<YearOutput>\n",
      "    <Year>0</Year>\n",
      "    <TreeAmount />\n",
      "    <Benefit Period=\"Annual\">\n",
      "        <HydroBenefit>\n",
      "    <RunoffAvoided Unit=\"Cubic Meter\">0.009320534006462041</RunoffAvoided>\n",
      "    <RunoffAvoidedValue Unit=\"$\">0.022002438973975465</RunoffAvoidedValue>\n",
      "    <Interception Unit=\"Cubic Meter\">0.2304487536823792</Interception>\n",
      "    <PotentialEvaporation Unit=\"Cubic Meter\">2.8630380528215116</PotentialEvaporation>\n",
      "    <PotentialEvapotranspiration Unit=\"Cubic Meter\">2.497297185316984</PotentialEvapotranspiration>\n",
      "    <Evaporation Unit=\"Cubic Meter\">0.22779627357486804</Evaporation>\n",
      "    <Transpiration Unit=\"Cubic Meter\">0.8204518518911699</Transpiration>\n",
      "</HydroBenefit>\n",
      "\n",
      "        <EnergyBenefit>\n",
      "    <MbtuHeatShade Unit=\"MMBTU\">-0.007344602300223892</MbtuHeatShade>\n",
      "    <MbtuHeatShadeValue Unit=\"$\">-0.09503650970806908</MbtuHeatShadeValue>\n",
      "    <MbtuHeatClimate Unit=\"MMBTU\">0.06798093933164663</MbtuHeatClimate>\n",
      "    <MbtuHeatClimateValue Unit=\"$\">0.8796488818133481</MbtuHeatClimateValue>\n",
      "    <MbtuWindHeat Unit=\"MMBTU\">0.0055640926516847666</MbtuWindHeat>\n",
      "    <MbtuWindHeatValue Unit=\"$\">0.07199735583944629</MbtuWindHeatValue>\n",
      "    <KWhElectricityHeatShade Unit=\"kwh\">-0.4644256196993825</KWhElectricityHeatShade>\n",
      "    <KWhElectricityHeatShadeValue Unit=\"$\">-0.0950679243524636</KWhElectricityHeatShadeValue>\n",
      "    <KWhElectricityHeatClimate Unit=\"kwh\">4.298679300291544</KWhElectricityHeatClimate>\n",
      "    <KWhElectricityHeatClimateValue Unit=\"$\">0.8799396527696791</KWhElectricityHeatClimateValue>\n",
      "    <KWhElectricityHeatWind Unit=\"kwh\">0.3518375906813503</KWhElectricityHeatWind>\n",
      "    <KWhElectricityHeatWindValue Unit=\"$\">0.0720211548124724</KWhElectricityHeatWindValue>\n",
      "    <KWhElectricityCoolShade Unit=\"kwh\">0.19411729141040013</KWhElectricityCoolShade>\n",
      "    <KWhElectricityCoolShadeValue Unit=\"$\">0.039735809551708905</KWhElectricityCoolShadeValue>\n",
      "    <KWhElectricityCoolClimate Unit=\"kwh\">15.213411078717199</KWhElectricityCoolClimate>\n",
      "    <KWhElectricityCoolClimateValue Unit=\"$\">3.1141852478134107</KWhElectricityCoolClimateValue>\n",
      "    <KWhPrice Unit=\"$/kwh\">0.2047</KWhPrice>\n",
      "    <ThermPrice Unit=\"$/therm\">1.2939640000000001</ThermPrice>\n",
      "</EnergyBenefit>\n",
      "\n",
      "        <AirQualityBenefit_PollRemoved>\n",
      "    <CO Unit=\"kg\">0.0007852597986059489</CO>\n",
      "    <COValue Unit=\"$\">0.0011942755800576873</COValue>\n",
      "    <NO2 Unit=\"kg\">0.0009276475843132947</NO2>\n",
      "    <NO2Value Unit=\"$\">0.000006410786209769297</NO2Value>\n",
      "    <SO2 Unit=\"kg\">0.000055126750608423114</SO2>\n",
      "    <SO2Value Unit=\"$\">0.00000013606778102805656</SO2Value>\n",
      "    <O3 Unit=\"kg\">0.011037519713704553</O3>\n",
      "    <O3Value Unit=\"$\">0.000609421618077271</O3Value>\n",
      "    <PM25 Unit=\"kg\">0.00010859899623463335</PM25>\n",
      "    <PM25Value Unit=\"$\">0.00019491932635003946</PM25Value>\n",
      "</AirQualityBenefit_PollRemoved>\n",
      "\n",
      "        <AirQualityBenefit_PollAvoided>\n",
      "    <CO Unit=\"kg\">0.006404475109313363</CO>\n",
      "    <COValue Unit=\"$\">0.0023174922883233244</COValue>\n",
      "    <NO2 Unit=\"kg\">0.0006379236740296973</NO2>\n",
      "    <NO2Value Unit=\"$\">0.00012475332611063228</NO2Value>\n",
      "    <SO2 Unit=\"kg\">0.0022449492933115595</SO2>\n",
      "    <SO2Value Unit=\"$\">0.00013613503214960834</SO2Value>\n",
      "    <PM25 Unit=\"kg\">0.002913403271350949</PM25>\n",
      "    <PM25Value Unit=\"$\">0.006026197919006385</PM25Value>\n",
      "    <VOC Unit=\"kg\">0.004613774747230741</VOC>\n",
      "    <VOCValue Unit=\"$\">0.00659094567662417</VOCValue>\n",
      "</AirQualityBenefit_PollAvoided>\n",
      "\n",
      "        <CO2Benefit_Sequestered>\n",
      "    <CO2 Unit=\"kg\">4.746191673580574</CO2>\n",
      "    <CO2Value Unit=\"$\">0.2433501912635858</CO2Value>\n",
      "</CO2Benefit_Sequestered>\n",
      "\n",
      "        <CO2Benefit_Avoided>\n",
      "    <CO2 Unit=\"kg\">8.869422263812693</CO2>\n",
      "    <CO2Value Unit=\"$\">0.4547594687991235</CO2Value>\n",
      "</CO2Benefit_Avoided>\n",
      "\n",
      "    </Benefit>\n",
      "    <TreeCarbon>\n",
      "    <CarbonStorage Unit=\"kg\">1.2182074951313768</CarbonStorage>\n",
      "    <CarbonDioxideStorage Unit=\"kg\">4.466760815481715</CarbonDioxideStorage>\n",
      "    <CarbonDioxideStorageValue Unit=\"$\">0.22902300908469886</CarbonDioxideStorageValue>\n",
      "    <DryWeight Unit=\"kg\">2.4364149902627537</DryWeight>\n",
      "</TreeCarbon>\n",
      "\n",
      "</YearOutput>\n",
      "\n",
      "\t\n",
      "\t\t<YearOutput>\n",
      "    <Year>0</Year>\n",
      "    <TreeAmount />\n",
      "    <Benefit Period=\"Annual\">\n",
      "        0\n",
      "        0\n",
      "        0\n",
      "        0\n",
      "        0\n",
      "        0\n",
      "    </Benefit>\n",
      "    <TreeCarbon>\n",
      "    <CarbonStorage Unit=\"kg\">1.2182074951313768</CarbonStorage>\n",
      "    <CarbonDioxideStorage Unit=\"kg\">4.466760815481715</CarbonDioxideStorage>\n",
      "    <CarbonDioxideStorageValue Unit=\"$\">0.22902300908469886</CarbonDioxideStorageValue>\n",
      "    <DryWeight Unit=\"kg\">2.4364149902627537</DryWeight>\n",
      "</TreeCarbon>\n",
      "\n",
      "</YearOutput>\n",
      "\n",
      "\t\n",
      "\t</OutputInformation>\n",
      "</Result>\n"
     ]
    }
   ],
   "source": [
    "print(ET.tostring(root, encoding='utf8').decode('utf8'))"
   ]
  },
  {
   "cell_type": "code",
   "execution_count": 55,
   "metadata": {},
   "outputs": [
    {
     "name": "stdout",
     "output_type": "stream",
     "text": [
      "Result\n",
      "Error\n",
      "ApiVersion\n",
      "DBVersion\n",
      "EngineVersion\n",
      "InputInformation\n",
      "Location\n",
      "Longitude\n",
      "Latitude\n",
      "NorthHemisphere\n",
      "NationFullName\n",
      "StateAbbr\n",
      "CountyName\n",
      "CityName\n",
      "Tree\n",
      "Species\n",
      "DBHCentimeter\n",
      "Condition\n",
      "CLE\n",
      "HeightMeter\n",
      "CrownHeightMeter\n",
      "CrownWidthMeter\n",
      "CalculatedHeightMeter\n",
      "CalculatedCrownHeightMeter\n",
      "CalculatedCrownWidthMeter\n",
      "TreeAmount\n",
      "MortalityRate\n",
      "ProjectYears\n",
      "ProjectDirection\n",
      "EmissionRateOfCO2kgPerMwh\n",
      "EmissionRateOfCO2kgPerMMBtu\n",
      "Building\n",
      "HouseVintage\n",
      "Heated\n",
      "AirConditioned\n",
      "TreeBuildingInteraction\n",
      "DistanceMeter\n",
      "DirectionDegree\n",
      "OutputInformation\n",
      "YearOutput\n",
      "Year\n",
      "TreeAmount\n",
      "Benefit\n",
      "HydroBenefit\n",
      "RunoffAvoided\n",
      "RunoffAvoidedValue\n",
      "Interception\n",
      "PotentialEvaporation\n",
      "PotentialEvapotranspiration\n",
      "Evaporation\n",
      "Transpiration\n",
      "EnergyBenefit\n",
      "MbtuHeatShade\n",
      "MbtuHeatShadeValue\n",
      "MbtuHeatClimate\n",
      "MbtuHeatClimateValue\n",
      "MbtuWindHeat\n",
      "MbtuWindHeatValue\n",
      "KWhElectricityHeatShade\n",
      "KWhElectricityHeatShadeValue\n",
      "KWhElectricityHeatClimate\n",
      "KWhElectricityHeatClimateValue\n",
      "KWhElectricityHeatWind\n",
      "KWhElectricityHeatWindValue\n",
      "KWhElectricityCoolShade\n",
      "KWhElectricityCoolShadeValue\n",
      "KWhElectricityCoolClimate\n",
      "KWhElectricityCoolClimateValue\n",
      "KWhPrice\n",
      "ThermPrice\n",
      "AirQualityBenefit_PollRemoved\n",
      "CO\n",
      "COValue\n",
      "NO2\n",
      "NO2Value\n",
      "SO2\n",
      "SO2Value\n",
      "O3\n",
      "O3Value\n",
      "PM25\n",
      "PM25Value\n",
      "AirQualityBenefit_PollAvoided\n",
      "CO\n",
      "COValue\n",
      "NO2\n",
      "NO2Value\n",
      "SO2\n",
      "SO2Value\n",
      "PM25\n",
      "PM25Value\n",
      "VOC\n",
      "VOCValue\n",
      "CO2Benefit_Sequestered\n",
      "CO2\n",
      "CO2Value\n",
      "CO2Benefit_Avoided\n",
      "CO2\n",
      "CO2Value\n",
      "TreeCarbon\n",
      "CarbonStorage\n",
      "CarbonDioxideStorage\n",
      "CarbonDioxideStorageValue\n",
      "DryWeight\n",
      "YearOutput\n",
      "Year\n",
      "TreeAmount\n",
      "Benefit\n",
      "TreeCarbon\n",
      "CarbonStorage\n",
      "CarbonDioxideStorage\n",
      "CarbonDioxideStorageValue\n",
      "DryWeight\n"
     ]
    }
   ],
   "source": [
    "for elem in root.iter():\n",
    "    print(elem.tag)"
   ]
  },
  {
   "cell_type": "code",
   "execution_count": 56,
   "metadata": {},
   "outputs": [
    {
     "name": "stdout",
     "output_type": "stream",
     "text": [
      "['Result', 'Error', 'ApiVersion', 'DBVersion', 'EngineVersion', 'InputInformation', 'Location', 'Longitude', 'Latitude', 'NorthHemisphere', 'NationFullName', 'StateAbbr', 'CountyName', 'CityName', 'Tree', 'Species', 'DBHCentimeter', 'Condition', 'CLE', 'HeightMeter', 'CrownHeightMeter', 'CrownWidthMeter', 'CalculatedHeightMeter', 'CalculatedCrownHeightMeter', 'CalculatedCrownWidthMeter', 'TreeAmount', 'MortalityRate', 'ProjectYears', 'ProjectDirection', 'EmissionRateOfCO2kgPerMwh', 'EmissionRateOfCO2kgPerMMBtu', 'Building', 'HouseVintage', 'Heated', 'AirConditioned', 'TreeBuildingInteraction', 'DistanceMeter', 'DirectionDegree', 'OutputInformation', 'YearOutput', 'Year', 'TreeAmount', 'Benefit', 'HydroBenefit', 'RunoffAvoided', 'RunoffAvoidedValue', 'Interception', 'PotentialEvaporation', 'PotentialEvapotranspiration', 'Evaporation', 'Transpiration', 'EnergyBenefit', 'MbtuHeatShade', 'MbtuHeatShadeValue', 'MbtuHeatClimate', 'MbtuHeatClimateValue', 'MbtuWindHeat', 'MbtuWindHeatValue', 'KWhElectricityHeatShade', 'KWhElectricityHeatShadeValue', 'KWhElectricityHeatClimate', 'KWhElectricityHeatClimateValue', 'KWhElectricityHeatWind', 'KWhElectricityHeatWindValue', 'KWhElectricityCoolShade', 'KWhElectricityCoolShadeValue', 'KWhElectricityCoolClimate', 'KWhElectricityCoolClimateValue', 'KWhPrice', 'ThermPrice', 'AirQualityBenefit_PollRemoved', 'CO', 'COValue', 'NO2', 'NO2Value', 'SO2', 'SO2Value', 'O3', 'O3Value', 'PM25', 'PM25Value', 'AirQualityBenefit_PollAvoided', 'CO', 'COValue', 'NO2', 'NO2Value', 'SO2', 'SO2Value', 'PM25', 'PM25Value', 'VOC', 'VOCValue', 'CO2Benefit_Sequestered', 'CO2', 'CO2Value', 'CO2Benefit_Avoided', 'CO2', 'CO2Value', 'TreeCarbon', 'CarbonStorage', 'CarbonDioxideStorage', 'CarbonDioxideStorageValue', 'DryWeight', 'YearOutput', 'Year', 'TreeAmount', 'Benefit', 'TreeCarbon', 'CarbonStorage', 'CarbonDioxideStorage', 'CarbonDioxideStorageValue', 'DryWeight']\n"
     ]
    }
   ],
   "source": [
    "print([elem.tag for elem in root.iter()])"
   ]
  },
  {
   "cell_type": "code",
   "execution_count": 57,
   "metadata": {
    "scrolled": true
   },
   "outputs": [
    {
     "data": {
      "text/plain": [
       "['Error', 'ApiVersion', 'DBVersion', 'EngineVersion', 'InputInformation', 'OutputInformation']"
      ]
     },
     "execution_count": 57,
     "metadata": {},
     "output_type": "execute_result"
    }
   ],
   "source": [
    "[elem.tag for elem in root]"
   ]
  },
  {
   "cell_type": "code",
   "execution_count": 58,
   "metadata": {},
   "outputs": [
    {
     "data": {
      "text/plain": [
       "['TreeCarbon', 'TreeCarbon']"
      ]
     },
     "execution_count": 58,
     "metadata": {},
     "output_type": "execute_result"
    }
   ],
   "source": [
    "[elem.tag for elem in root.findall('.//TreeCarbon')]"
   ]
  },
  {
   "cell_type": "code",
   "execution_count": 59,
   "metadata": {},
   "outputs": [
    {
     "data": {
      "text/plain": [
       "['CarbonStorage', 'CarbonDioxideStorage', 'CarbonDioxideStorageValue', 'DryWeight']"
      ]
     },
     "execution_count": 59,
     "metadata": {},
     "output_type": "execute_result"
    }
   ],
   "source": [
    "[elem.tag for elem in root.find('.//TreeCarbon')]"
   ]
  },
  {
   "cell_type": "code",
   "execution_count": 129,
   "metadata": {},
   "outputs": [
    {
     "data": {
      "text/plain": [
       "['\\n\\n\\t', None, '2', '12.0.77', '0.15.1', '\\n\\t\\t', '\\n    ', '-117.2137', '33.2854', '1', 'United States of America', 'CA', 'San Diego', 'Fallbrook', '\\n    ', 'CUAN', '2.54', 'good', '3', None, None, None, '3.9586400510446014', '0.9570110399999999', '2.514046725757369', '1.0', '0.0', '1', '1', '252.39639405195604', '52.004410579737005', '\\n    ', 'post-1980', '1', '1', '\\n    ', '1.8288', '315.0', '\\n\\t\\n\\t\\t', '\\n    ', '0', None, '\\n        ', '\\n    ', '0.009320534006462041', '0.022002438973975465', '0.2304487536823792', '2.8630380528215116', '2.497297185316984', '0.22779627357486804', '0.8204518518911699', '\\n    ', '-0.007344602300223892', '-0.09503650970806908', '0.06798093933164663', '0.8796488818133481', '0.0055640926516847666', '0.07199735583944629', '-0.4644256196993825', '-0.0950679243524636', '4.298679300291544', '0.8799396527696791', '0.3518375906813503', '0.0720211548124724', '0.19411729141040013', '0.039735809551708905', '15.213411078717199', '3.1141852478134107', '0.2047', '1.2939640000000001', '\\n    ', '0.0007852597986059489', '0.0011942755800576873', '0.0009276475843132947', '0.000006410786209769297', '0.000055126750608423114', '0.00000013606778102805656', '0.011037519713704553', '0.000609421618077271', '0.00010859899623463335', '0.00019491932635003946', '\\n    ', '0.006404475109313363', '0.0023174922883233244', '0.0006379236740296973', '0.00012475332611063228', '0.0022449492933115595', '0.00013613503214960834', '0.002913403271350949', '0.006026197919006385', '0.004613774747230741', '0.00659094567662417', '\\n    ', '4.746191673580574', '0.2433501912635858', '\\n    ', '8.869422263812693', '0.4547594687991235', '\\n    ', '1.2182074951313768', '4.466760815481715', '0.22902300908469886', '2.4364149902627537', '\\n    ', '0', None, '\\n        0\\n        0\\n        0\\n        0\\n        0\\n        0\\n    ', '\\n    ', '1.2182074951313768', '4.466760815481715', '0.22902300908469886', '2.4364149902627537']"
      ]
     },
     "execution_count": 129,
     "metadata": {},
     "output_type": "execute_result"
    }
   ],
   "source": [
    "[elem.text for elem in root.iter('*')]"
   ]
  },
  {
   "cell_type": "code",
   "execution_count": 131,
   "metadata": {},
   "outputs": [
    {
     "name": "stdout",
     "output_type": "stream",
     "text": [
      "{'Unit': '$'} 0.22902300908469886\n"
     ]
    }
   ],
   "source": [
    "for elem in root.find('.//TreeCarbon'):\n",
    "    if elem.tag == 'CarbonDioxideStorageValue':\n",
    "        print(elem.attrib, elem.text)"
   ]
  },
  {
   "cell_type": "code",
   "execution_count": 132,
   "metadata": {},
   "outputs": [
    {
     "name": "stdout",
     "output_type": "stream",
     "text": [
      "CO2: 4.746191673580574 {'Unit': 'kg'}\n",
      "CO2: 8.869422263812693 {'Unit': 'kg'}\n"
     ]
    }
   ],
   "source": [
    "for elem in root.iter():\n",
    "    if elem.tag == 'CO2':\n",
    "        print('CO2: ' + elem.text, elem.attrib)"
   ]
  },
  {
   "cell_type": "code",
   "execution_count": 133,
   "metadata": {},
   "outputs": [
    {
     "data": {
      "text/plain": [
       "['Error', 'ApiVersion', 'DBVersion', 'EngineVersion', 'InputInformation', 'Location', 'Longitude', 'Latitude', 'NorthHemisphere', 'NationFullName', 'StateAbbr', 'CountyName', 'CityName', 'Tree', 'Species', 'DBHCentimeter', 'Condition', 'CLE', 'HeightMeter', 'CrownHeightMeter', 'CrownWidthMeter', 'CalculatedHeightMeter', 'CalculatedCrownHeightMeter', 'CalculatedCrownWidthMeter', 'TreeAmount', 'MortalityRate', 'ProjectYears', 'ProjectDirection', 'EmissionRateOfCO2kgPerMwh', 'EmissionRateOfCO2kgPerMMBtu', 'Building', 'HouseVintage', 'Heated', 'AirConditioned', 'TreeBuildingInteraction', 'DistanceMeter', 'DirectionDegree', 'OutputInformation', 'YearOutput', 'Year', 'TreeAmount', 'Benefit', 'HydroBenefit', 'RunoffAvoided', 'RunoffAvoidedValue', 'Interception', 'PotentialEvaporation', 'PotentialEvapotranspiration', 'Evaporation', 'Transpiration', 'EnergyBenefit', 'MbtuHeatShade', 'MbtuHeatShadeValue', 'MbtuHeatClimate', 'MbtuHeatClimateValue', 'MbtuWindHeat', 'MbtuWindHeatValue', 'KWhElectricityHeatShade', 'KWhElectricityHeatShadeValue', 'KWhElectricityHeatClimate', 'KWhElectricityHeatClimateValue', 'KWhElectricityHeatWind', 'KWhElectricityHeatWindValue', 'KWhElectricityCoolShade', 'KWhElectricityCoolShadeValue', 'KWhElectricityCoolClimate', 'KWhElectricityCoolClimateValue', 'KWhPrice', 'ThermPrice', 'AirQualityBenefit_PollRemoved', 'CO', 'COValue', 'NO2', 'NO2Value', 'SO2', 'SO2Value', 'O3', 'O3Value', 'PM25', 'PM25Value', 'AirQualityBenefit_PollAvoided', 'CO', 'COValue', 'NO2', 'NO2Value', 'SO2', 'SO2Value', 'PM25', 'PM25Value', 'VOC', 'VOCValue', 'CO2Benefit_Sequestered', 'CO2', 'CO2Value', 'CO2Benefit_Avoided', 'CO2', 'CO2Value', 'TreeCarbon', 'CarbonStorage', 'CarbonDioxideStorage', 'CarbonDioxideStorageValue', 'DryWeight', 'YearOutput', 'Year', 'TreeAmount', 'Benefit', 'TreeCarbon', 'CarbonStorage', 'CarbonDioxideStorage', 'CarbonDioxideStorageValue', 'DryWeight']"
      ]
     },
     "execution_count": 133,
     "metadata": {},
     "output_type": "execute_result"
    }
   ],
   "source": [
    "[elem.tag for elem in root.findall('.//*')]"
   ]
  },
  {
   "cell_type": "code",
   "execution_count": 135,
   "metadata": {},
   "outputs": [
    {
     "name": "stdout",
     "output_type": "stream",
     "text": [
      "8.869422263812693\n"
     ]
    }
   ],
   "source": [
    "for elem in root.iter('*'):\n",
    "    if elem.tag == 'RunoffAvoided':\n",
    "        print(child.text)"
   ]
  },
  {
   "cell_type": "code",
   "execution_count": 136,
   "metadata": {},
   "outputs": [
    {
     "name": "stdout",
     "output_type": "stream",
     "text": [
      "8.869422263812693\n"
     ]
    }
   ],
   "source": [
    "for elem in root.iter():\n",
    "    if elem.tag == 'RunoffAvoided':\n",
    "        print(child.text)"
   ]
  },
  {
   "cell_type": "code",
   "execution_count": 63,
   "metadata": {},
   "outputs": [
    {
     "name": "stdout",
     "output_type": "stream",
     "text": [
      "Error\n",
      "ApiVersion\n",
      "DBVersion\n",
      "EngineVersion\n",
      "InputInformation\n",
      "Location\n",
      "Longitude\n",
      "Latitude\n",
      "NorthHemisphere\n",
      "NationFullName\n",
      "StateAbbr\n",
      "CountyName\n",
      "CityName\n",
      "Tree\n",
      "Species\n",
      "DBHCentimeter\n",
      "Condition\n",
      "CLE\n",
      "HeightMeter\n",
      "CrownHeightMeter\n",
      "CrownWidthMeter\n",
      "CalculatedHeightMeter\n",
      "CalculatedCrownHeightMeter\n",
      "CalculatedCrownWidthMeter\n",
      "TreeAmount\n",
      "MortalityRate\n",
      "ProjectYears\n",
      "ProjectDirection\n",
      "EmissionRateOfCO2kgPerMwh\n",
      "EmissionRateOfCO2kgPerMMBtu\n",
      "Building\n",
      "HouseVintage\n",
      "Heated\n",
      "AirConditioned\n",
      "TreeBuildingInteraction\n",
      "DistanceMeter\n",
      "DirectionDegree\n",
      "OutputInformation\n",
      "YearOutput\n",
      "Year\n",
      "TreeAmount\n",
      "Benefit\n",
      "HydroBenefit\n",
      "RunoffAvoided\n",
      "RunoffAvoidedValue\n",
      "Interception\n",
      "PotentialEvaporation\n",
      "PotentialEvapotranspiration\n",
      "Evaporation\n",
      "Transpiration\n",
      "EnergyBenefit\n",
      "MbtuHeatShade\n",
      "MbtuHeatShadeValue\n",
      "MbtuHeatClimate\n",
      "MbtuHeatClimateValue\n",
      "MbtuWindHeat\n",
      "MbtuWindHeatValue\n",
      "KWhElectricityHeatShade\n",
      "KWhElectricityHeatShadeValue\n",
      "KWhElectricityHeatClimate\n",
      "KWhElectricityHeatClimateValue\n",
      "KWhElectricityHeatWind\n",
      "KWhElectricityHeatWindValue\n",
      "KWhElectricityCoolShade\n",
      "KWhElectricityCoolShadeValue\n",
      "KWhElectricityCoolClimate\n",
      "KWhElectricityCoolClimateValue\n",
      "KWhPrice\n",
      "ThermPrice\n",
      "AirQualityBenefit_PollRemoved\n",
      "CO\n",
      "COValue\n",
      "NO2\n",
      "NO2Value\n",
      "SO2\n",
      "SO2Value\n",
      "O3\n",
      "O3Value\n",
      "PM25\n",
      "PM25Value\n",
      "AirQualityBenefit_PollAvoided\n",
      "CO\n",
      "COValue\n",
      "NO2\n",
      "NO2Value\n",
      "SO2\n",
      "SO2Value\n",
      "PM25\n",
      "PM25Value\n",
      "VOC\n",
      "VOCValue\n",
      "CO2Benefit_Sequestered\n",
      "CO2\n",
      "CO2Value\n",
      "CO2Benefit_Avoided\n",
      "CO2\n",
      "CO2Value\n",
      "TreeCarbon\n",
      "CarbonStorage\n",
      "CarbonDioxideStorage\n",
      "CarbonDioxideStorageValue\n",
      "DryWeight\n",
      "YearOutput\n",
      "Year\n",
      "TreeAmount\n",
      "Benefit\n",
      "TreeCarbon\n",
      "CarbonStorage\n",
      "CarbonDioxideStorage\n",
      "CarbonDioxideStorageValue\n",
      "DryWeight\n"
     ]
    }
   ],
   "source": [
    "for elem in root.findall(\".//\"):\n",
    "    print(elem.tag)"
   ]
  },
  {
   "cell_type": "code",
   "execution_count": 64,
   "metadata": {},
   "outputs": [
    {
     "name": "stdout",
     "output_type": "stream",
     "text": [
      "4.746191673580574\n",
      "8.869422263812693\n"
     ]
    }
   ],
   "source": [
    "for elem in root.findall(\".//CO2\"):\n",
    "    print(elem.text)"
   ]
  },
  {
   "cell_type": "code",
   "execution_count": 65,
   "metadata": {
    "scrolled": true
   },
   "outputs": [
    {
     "name": "stdout",
     "output_type": "stream",
     "text": [
      "4.746191673580574\n",
      "8.869422263812693\n"
     ]
    }
   ],
   "source": [
    "for elem in root.iter('CO2'):\n",
    "    print(elem.text)"
   ]
  },
  {
   "cell_type": "code",
   "execution_count": 80,
   "metadata": {},
   "outputs": [
    {
     "ename": "TypeError",
     "evalue": "'NoneType' object is not iterable",
     "output_type": "error",
     "traceback": [
      "\u001b[0;31m---------------------------------------------------------------------------\u001b[0m\n\u001b[0;31mTypeError\u001b[0m                                 Traceback (most recent call last)",
      "In  \u001b[0;34m[80]\u001b[0m:\nLine \u001b[0;34m1\u001b[0m:     \u001b[34mfor\u001b[39;49;00m elem \u001b[35min\u001b[39;49;00m root.find(\u001b[33m\"\u001b[39;49;00m\u001b[33m.//CO2Benefit_Sequestered\u001b[39;49;00m\u001b[33m\"\u001b[39;49;00m):\u001b[37m\u001b[39;49;00m\n",
      "\u001b[0;31mTypeError\u001b[0m: 'NoneType' object is not iterable\n\u001b[0;31m---------------------------------------------------------------------------\u001b[0m"
     ]
    }
   ],
   "source": [
    "for elem in root.find(\".//CO2Benefit_Sequestered\"):\n",
    "    print(elem.text)"
   ]
  },
  {
   "cell_type": "code",
   "execution_count": 69,
   "metadata": {},
   "outputs": [],
   "source": [
    "uniqueList = []\n",
    "children = [elem.tag for elem in root.findall('.//*')]"
   ]
  },
  {
   "cell_type": "code",
   "execution_count": 70,
   "metadata": {},
   "outputs": [],
   "source": [
    "duplicateList = []"
   ]
  },
  {
   "cell_type": "code",
   "execution_count": 71,
   "metadata": {},
   "outputs": [],
   "source": [
    "for i in children:\n",
    "    if i not in uniqueList:\n",
    "        uniqueList.append(i)\n",
    "    elif i not in duplicateList:\n",
    "        duplicateList.append(i)"
   ]
  },
  {
   "cell_type": "code",
   "execution_count": 72,
   "metadata": {},
   "outputs": [
    {
     "name": "stdout",
     "output_type": "stream",
     "text": [
      "['TreeAmount', 'CO', 'COValue', 'NO2', 'NO2Value', 'SO2', 'SO2Value', 'PM25', 'PM25Value', 'CO2', 'CO2Value', 'YearOutput', 'Year', 'Benefit', 'TreeCarbon', 'CarbonStorage', 'CarbonDioxideStorage', 'CarbonDioxideStorageValue', 'DryWeight']\n"
     ]
    }
   ],
   "source": [
    "print(duplicateList)"
   ]
  },
  {
   "cell_type": "code",
   "execution_count": 73,
   "metadata": {},
   "outputs": [
    {
     "name": "stdout",
     "output_type": "stream",
     "text": [
      "['Error', 'ApiVersion', 'DBVersion', 'EngineVersion', 'InputInformation', 'Location', 'Longitude', 'Latitude', 'NorthHemisphere', 'NationFullName', 'StateAbbr', 'CountyName', 'CityName', 'Tree', 'Species', 'DBHCentimeter', 'Condition', 'CLE', 'HeightMeter', 'CrownHeightMeter', 'CrownWidthMeter', 'CalculatedHeightMeter', 'CalculatedCrownHeightMeter', 'CalculatedCrownWidthMeter', 'TreeAmount', 'MortalityRate', 'ProjectYears', 'ProjectDirection', 'EmissionRateOfCO2kgPerMwh', 'EmissionRateOfCO2kgPerMMBtu', 'Building', 'HouseVintage', 'Heated', 'AirConditioned', 'TreeBuildingInteraction', 'DistanceMeter', 'DirectionDegree', 'OutputInformation', 'YearOutput', 'Year', 'Benefit', 'HydroBenefit', 'RunoffAvoided', 'RunoffAvoidedValue', 'Interception', 'PotentialEvaporation', 'PotentialEvapotranspiration', 'Evaporation', 'Transpiration', 'EnergyBenefit', 'MbtuHeatShade', 'MbtuHeatShadeValue', 'MbtuHeatClimate', 'MbtuHeatClimateValue', 'MbtuWindHeat', 'MbtuWindHeatValue', 'KWhElectricityHeatShade', 'KWhElectricityHeatShadeValue', 'KWhElectricityHeatClimate', 'KWhElectricityHeatClimateValue', 'KWhElectricityHeatWind', 'KWhElectricityHeatWindValue', 'KWhElectricityCoolShade', 'KWhElectricityCoolShadeValue', 'KWhElectricityCoolClimate', 'KWhElectricityCoolClimateValue', 'KWhPrice', 'ThermPrice', 'AirQualityBenefit_PollRemoved', 'CO', 'COValue', 'NO2', 'NO2Value', 'SO2', 'SO2Value', 'O3', 'O3Value', 'PM25', 'PM25Value', 'AirQualityBenefit_PollAvoided', 'VOC', 'VOCValue', 'CO2Benefit_Sequestered', 'CO2', 'CO2Value', 'CO2Benefit_Avoided', 'TreeCarbon', 'CarbonStorage', 'CarbonDioxideStorage', 'CarbonDioxideStorageValue', 'DryWeight']\n"
     ]
    }
   ],
   "source": [
    "print(uniqueList)"
   ]
  },
  {
   "cell_type": "code",
   "execution_count": 74,
   "metadata": {},
   "outputs": [
    {
     "name": "stdout",
     "output_type": "stream",
     "text": [
      "Successful i-Tree Engine API Call\n"
     ]
    }
   ],
   "source": [
    "try:\n",
    "    api_url = 'https://dtbe-api.daveyinstitute.com/v2/getGrowoutTreeBenefit'\n",
    "    PARAMS = {'key': '272752b916654994a7e781cd037fc4ed',\n",
    "                'ProjectYears':'1',\n",
    "                'MortalityRate':'0.00',\n",
    "                'Longitude':'-74.12263',\n",
    "                'Latitude':'40.99115',\n",
    "                'TreeAmount':'1',\n",
    "                'Species':'QURU',\n",
    "                'DBHCentimeter':'15.24',\n",
    "                'TreeHeightMeter':'-1',\n",
    "                'TreeCrownHeightMeter':'-1',\n",
    "                'TreeCrownWidthMeter':'-1',\n",
    "                'Condition':'Good',\n",
    "                'CLE':'5',\n",
    "                'EnergyOnly':'5',\n",
    "                'HouseVintage':'pre-1950',\n",
    "                'DirectionDegree':'315',\n",
    "                'DistanceMeter':'13',\n",
    "                'Heated':'1',\n",
    "                'AirConditioned':'1'\n",
    "            }\n",
    "    response = requests.get(url = api_url, params = PARAMS)\n",
    "    root = ET.fromstring(response.content)\n",
    "    \n",
    "    if response.status_code == 200:\n",
    "        print('Successful i-Tree Engine API Call')\n",
    "        \n",
    "except Exception as e:\n",
    "    print('Error: ' + e.args[0])"
   ]
  },
  {
   "cell_type": "code",
   "execution_count": 75,
   "metadata": {},
   "outputs": [],
   "source": [
    "response = requests.get(url = api_url, params = PARAMS)"
   ]
  },
  {
   "cell_type": "code",
   "execution_count": 76,
   "metadata": {},
   "outputs": [
    {
     "name": "stdout",
     "output_type": "stream",
     "text": [
      "200\n"
     ]
    }
   ],
   "source": [
    "print(response.status_code)"
   ]
  },
  {
   "cell_type": "code",
   "execution_count": 77,
   "metadata": {},
   "outputs": [
    {
     "name": "stdout",
     "output_type": "stream",
     "text": [
      "Called the itree Engine API...\n"
     ]
    }
   ],
   "source": [
    "if response.status_code == 200:\n",
    "    print('Called the itree Engine API...')"
   ]
  },
  {
   "cell_type": "code",
   "execution_count": 78,
   "metadata": {},
   "outputs": [
    {
     "name": "stdout",
     "output_type": "stream",
     "text": [
      "Successful i-Tree Engine API Call\n"
     ]
    }
   ],
   "source": [
    "try:\n",
    "    api_url = 'https://dtbe-api.daveyinstitute.com/v2/getGrowoutTreeBenefit'\n",
    "    PARAMS = {'key': '272752b916654994a7e781cd037fc4ed',\n",
    "                'ProjectYears':'1',\n",
    "                'MortalityRate':'0.00',\n",
    "                'Longitude':'-117.2137',\n",
    "                'Latitude':'33.2854',\n",
    "                'TreeAmount':'1',\n",
    "                'Species':'CUAN',\n",
    "                'DBHCentimeter':'2.54',\n",
    "                'TreeHeightMeter':'-1',\n",
    "                'TreeCrownHeightMeter':'-1',\n",
    "                'TreeCrownWidthMeter':'-1',\n",
    "                'Condition':'Good',\n",
    "                'CLE':'5',\n",
    "                'EnergyOnly':'5',\n",
    "                'HouseVintage':'post-1980',\n",
    "                'DirectionDegree':'315',\n",
    "                'DistanceMeter':'1,828',\n",
    "                'Heated':'1',\n",
    "                'AirConditioned':'1'\n",
    "            }\n",
    "    response = requests.get(url = api_url, params = PARAMS)\n",
    "    root = ET.fromstring(response.content)\n",
    "    \n",
    "    if response.status_code == 200:\n",
    "        print('Successful i-Tree Engine API Call')\n",
    "        \n",
    "except Exception as e:\n",
    "    print('Error: ' + e.args[0])"
   ]
  },
  {
   "cell_type": "code",
   "execution_count": 83,
   "metadata": {},
   "outputs": [
    {
     "ename": "TypeError",
     "evalue": "'NoneType' object is not iterable",
     "output_type": "error",
     "traceback": [
      "\u001b[0;31m---------------------------------------------------------------------------\u001b[0m\n\u001b[0;31mTypeError\u001b[0m                                 Traceback (most recent call last)",
      "In  \u001b[0;34m[83]\u001b[0m:\nLine \u001b[0;34m1\u001b[0m:     \u001b[34mfor\u001b[39;49;00m elem \u001b[35min\u001b[39;49;00m root.find(\u001b[33m'\u001b[39;49;00m\u001b[33mCO2\u001b[39;49;00m\u001b[33m'\u001b[39;49;00m):\u001b[37m\u001b[39;49;00m\n",
      "\u001b[0;31mTypeError\u001b[0m: 'NoneType' object is not iterable\n\u001b[0;31m---------------------------------------------------------------------------\u001b[0m"
     ]
    }
   ],
   "source": [
    "for elem in root.find('CO2'):\n",
    "    print(elem.tag)"
   ]
  },
  {
   "cell_type": "code",
   "execution_count": 1,
   "metadata": {},
   "outputs": [],
   "source": [
    "import arcpy, requests, datetime\n",
    "import xml.etree.ElementTree as ET\n",
    "from arcgis.gis import GIS\n",
    "g = GIS(\"https://www.arcgis.com\", \"linds-m\", \"linds-m&2210\")"
   ]
  },
  {
   "cell_type": "code",
   "execution_count": null,
   "metadata": {},
   "outputs": [],
   "source": [
    "print('Running trees through the iTree API to calculate Eco Benefits...')\n",
    "with arcpy.da.UpdateCursor(url, fields) as cursor:\n",
    "    for row in cursor:\n",
    "\n",
    "        api_url = 'https://dtbe-api.daveyinstitute.com/v2/getGrowoutTreeBenefit'\n",
    "        PARAMS = {'key': '272752b916654994a7e781cd037fc4ed',\n",
    "                    'ProjectYears':'1',\n",
    "                    'MortalityRate':'0.00',\n",
    "                    'Longitude':row[1],\n",
    "                    'Latitude':row[2],\n",
    "                    'TreeAmount':'1',\n",
    "                    'Species':row[3],\n",
    "                    'DBHCentimeter':row[4],\n",
    "                    'TreeHeightMeter':'-1',\n",
    "                    'TreeCrownHeightMeter':'-1',\n",
    "                    'TreeCrownWidthMeter':'-1',\n",
    "                    'Condition':'Good',\n",
    "                    'CLE':'3',\n",
    "                    'EnergyOnly':'0',\n",
    "                    'HouseVintage':row[5],\n",
    "                    'DirectionDegree':row[6],\n",
    "                    'DistanceMeter':row[7],\n",
    "                    'Heated':row[8],\n",
    "                    'AirConditioned':row[9]\n",
    "                }\n",
    "\n",
    "        response = requests.get(url = api_url, params = PARAMS)\n",
    "        root = ET.fromstring(response.content)\n",
    "\n",
    "        if response.status_code == 200:\n",
    "            print('Successful i-Tree Engine API Call')\n",
    "\n",
    "            for child in root.iter('*'):\n",
    "                if child.tag == 'RunoffAvoided':\n",
    "                    row[10] = child.text\n",
    "                elif child.tag == 'RunoffAvoidedValue':\n",
    "                    row[11] = child.text\n",
    "                elif child.tag == 'Interception':\n",
    "                    row[12] = child.text\n",
    "                elif child.tag == 'O3':\n",
    "                    row[21] = child.text\n",
    "                elif child.tag == 'O3Value':\n",
    "                    row[22] = child.text\n",
    "                elif child.tag == 'VOC':\n",
    "                    row[31] = child.text\n",
    "                elif child.tag == 'VOCValue':\n",
    "                    row[32] = child.text\n",
    "                elif child.tag == 'MbtuHeatClimateValue':\n",
    "                    row[40] = child.text\n",
    "                elif child.tag == 'KWhElectricityHeatClimateValue':\n",
    "                    row[41] = child.text\n",
    "                elif child.tag == 'KWhElectricityCoolClimateValue':\n",
    "                    row[42] = child.text\n",
    "\n",
    "            for child in root.find('.//AirQualityBenefit_PollRemoved'):\n",
    "                if child.tag == 'CO':\n",
    "                    row[13] = child.text\n",
    "                elif child.tag == 'COValue':\n",
    "                    row[14] = child.text\n",
    "                elif child.tag == 'NO2':\n",
    "                    row[15] = child.text\n",
    "                elif child.tag == 'NO2Value':\n",
    "                    row[16] = child.text\n",
    "                elif child.tag == 'SO2':\n",
    "                    row[17] = child.text\n",
    "                elif child.tag == 'SO2Value':\n",
    "                    row[18] = child.text\n",
    "                elif child.tag == 'PM25':\n",
    "                    row[19] = child.text\n",
    "                elif child.tag == 'PM25Value':\n",
    "                    row[20] = child.text\n",
    "\n",
    "            for child in root.find('.//AirQualityBenefit_PollAvoided'):\n",
    "                if child.tag == 'CO':\n",
    "                    row[23] = child.text\n",
    "                elif child.tag == 'COValue':\n",
    "                    row[24] = child.text\n",
    "                elif child.tag == 'NO2':\n",
    "                    row[25] = child.text\n",
    "                elif child.tag == 'NO2Value':\n",
    "                    row[26] = child.text\n",
    "                elif child.tag == 'SO2':\n",
    "                    row[27] = child.text\n",
    "                elif child.tag == 'SO2Value':\n",
    "                    row[28] = child.text\n",
    "                elif child.tag == 'PM25':\n",
    "                    row[29] = child.text\n",
    "                elif child.tag == 'PM25Value':\n",
    "                    row[30] = child.text\n",
    "\n",
    "            for child in root.find('.//CO2Benefit_Sequestered'):\n",
    "                if child.tag == 'CO2':\n",
    "                    row[33] = child.text\n",
    "                elif child.tag == 'CO2Value':\n",
    "                    row[34] = child.text\n",
    "\n",
    "            for child in root.find('.//CO2Benefit_Avoided'):\n",
    "                if child.tag == 'CO2':\n",
    "                    row[35] = child.text\n",
    "                elif child.tag == 'CO2Value':\n",
    "                    row[36] = child.text\n",
    "\n",
    "            for child in root.find('.//TreeCarbon'):\n",
    "                if child.tag == 'CarbonStorage':\n",
    "                    row[37] = child.text\n",
    "                elif child.tag == 'CarbonDioxideStorage':\n",
    "                    row[38] = child.text\n",
    "                elif child.tag == 'CarbonDioxideStorageValue':\n",
    "                    row[39] = child.text\n",
    "\n",
    "                    cursor.updateRow(row)"
   ]
  },
  {
   "cell_type": "code",
   "execution_count": null,
   "metadata": {},
   "outputs": [],
   "source": [
    "print('Calculating fields...')\n",
    "arcpy.management.CalculateField(url, 'Calc_CarbonDRemovalValue', '!EcoBen_CO2SequestValue! + !EcoBen_CO2AvoidedValue!', 'PYTHON3')\n",
    "arcpy.management.CalculateField(url, 'Calc_RunoffAvoidedGallons', '!EcoBen_RunoffAvoided! * 264.172', 'PYTHON3')\n",
    "arcpy.management.CalculateField(url, 'Calc_PollutantsRemoved', '(!EcoBen_CORemoved! + !EcoBen_NO2Removed! + !EcoBen_SO2Removed! + !EcoBen_PM25Removed! + !EcoBen_O3Removed!) * 2.20462', 'PYTHON3')\n",
    "arcpy.management.CalculateField(url, 'Calc_PollutantsRemovedValue', '!EcoBen_CORemovedValue! + !EcoBen_NO2RemovedValue! + !EcoBen_SO2RemovedValue! + !EcoBen_PM25RemovedValue! + !EcoBen_O3RemovedValue!', 'PYTHON3')\n",
    "arcpy.management.CalculateField(url, 'Calc_EnergySavings', '!EcoBen_HeatingFuelValue! + !EcoBen_ElectricityHeatValue! + !EcoBen_ElectricityCoolValue!', 'PYTHON3')\n",
    "print('Done calculating fields.')\n",
    "\n",
    "print('DONE!')"
   ]
  },
  {
   "cell_type": "code",
   "execution_count": null,
   "metadata": {},
   "outputs": [],
   "source": [
    "except Exception as e:\n",
    "    print('Error: ' + e.args[0])"
   ]
  }
 ],
 "metadata": {
  "kernelspec": {
   "display_name": "ArcGISPro",
   "language": "Python",
   "name": "python3"
  },
  "language_info": {
   "file_extension": ".py",
   "name": "python",
   "version": "3"
  }
 },
 "nbformat": 4,
 "nbformat_minor": 2
}
